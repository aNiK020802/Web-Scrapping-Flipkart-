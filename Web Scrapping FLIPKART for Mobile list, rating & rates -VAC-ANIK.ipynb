{
 "cells": [
  {
   "cell_type": "markdown",
   "id": "ab9f0998",
   "metadata": {},
   "source": [
    "# Web Scrapping FLIPKART for Mobile list, rating & rates"
   ]
  },
  {
   "cell_type": "markdown",
   "id": "03f53724",
   "metadata": {},
   "source": [
    "## Import Library "
   ]
  },
  {
   "cell_type": "code",
   "execution_count": 1,
   "id": "3b19a453",
   "metadata": {},
   "outputs": [
    {
     "name": "stdout",
     "output_type": "stream",
     "text": [
      "Requirement already satisfied: bs4 in c:\\users\\anik\\anaconda3\\new folder\\envs\\pythonvac\\lib\\site-packages (0.0.1)\n",
      "Requirement already satisfied: beautifulsoup4 in c:\\users\\anik\\anaconda3\\new folder\\envs\\pythonvac\\lib\\site-packages (from bs4) (4.11.1)\n",
      "Requirement already satisfied: soupsieve>1.2 in c:\\users\\anik\\anaconda3\\new folder\\envs\\pythonvac\\lib\\site-packages (from beautifulsoup4->bs4) (2.3.2.post1)\n",
      "Note: you may need to restart the kernel to use updated packages.\n"
     ]
    }
   ],
   "source": [
    "pip install bs4"
   ]
  },
  {
   "cell_type": "code",
   "execution_count": 37,
   "id": "eacad03f",
   "metadata": {},
   "outputs": [
    {
     "name": "stdout",
     "output_type": "stream",
     "text": [
      "Requirement already satisfied: requests in c:\\users\\anik\\anaconda3\\new folder\\envs\\pythonvac\\lib\\site-packages (2.27.1)\n",
      "Requirement already satisfied: charset-normalizer~=2.0.0 in c:\\users\\anik\\anaconda3\\new folder\\envs\\pythonvac\\lib\\site-packages (from requests) (2.0.12)\n",
      "Requirement already satisfied: idna<4,>=2.5 in c:\\users\\anik\\anaconda3\\new folder\\envs\\pythonvac\\lib\\site-packages (from requests) (3.3)\n",
      "Requirement already satisfied: certifi>=2017.4.17 in c:\\users\\anik\\anaconda3\\new folder\\envs\\pythonvac\\lib\\site-packages (from requests) (2021.10.8)\n",
      "Requirement already satisfied: urllib3<1.27,>=1.21.1 in c:\\users\\anik\\anaconda3\\new folder\\envs\\pythonvac\\lib\\site-packages (from requests) (1.26.9)\n",
      "Note: you may need to restart the kernel to use updated packages.\n"
     ]
    }
   ],
   "source": [
    "pip install requests"
   ]
  },
  {
   "cell_type": "code",
   "execution_count": 38,
   "id": "8e3cf5a2",
   "metadata": {},
   "outputs": [
    {
     "name": "stdout",
     "output_type": "stream",
     "text": [
      "Requirement already satisfied: pandas in c:\\users\\anik\\anaconda3\\new folder\\envs\\pythonvac\\lib\\site-packages (1.4.2)\n",
      "Requirement already satisfied: pytz>=2020.1 in c:\\users\\anik\\anaconda3\\new folder\\envs\\pythonvac\\lib\\site-packages (from pandas) (2022.1)\n",
      "Requirement already satisfied: python-dateutil>=2.8.1 in c:\\users\\anik\\anaconda3\\new folder\\envs\\pythonvac\\lib\\site-packages (from pandas) (2.8.2)\n",
      "Requirement already satisfied: numpy>=1.18.5 in c:\\users\\anik\\anaconda3\\new folder\\envs\\pythonvac\\lib\\site-packages (from pandas) (1.22.4)\n",
      "Requirement already satisfied: six>=1.5 in c:\\users\\anik\\anaconda3\\new folder\\envs\\pythonvac\\lib\\site-packages (from python-dateutil>=2.8.1->pandas) (1.16.0)\n",
      "Note: you may need to restart the kernel to use updated packages.\n"
     ]
    }
   ],
   "source": [
    "pip install pandas"
   ]
  },
  {
   "cell_type": "code",
   "execution_count": 3,
   "id": "e5c2174b",
   "metadata": {},
   "outputs": [],
   "source": [
    "from bs4 import BeautifulSoup"
   ]
  },
  {
   "cell_type": "code",
   "execution_count": 4,
   "id": "e62fcee1",
   "metadata": {},
   "outputs": [],
   "source": [
    "import requests"
   ]
  },
  {
   "cell_type": "markdown",
   "id": "1c1c6b75",
   "metadata": {},
   "source": [
    "## Testing for Allowabilty"
   ]
  },
  {
   "cell_type": "code",
   "execution_count": 5,
   "id": "879dcb1a",
   "metadata": {},
   "outputs": [],
   "source": [
    "url = \"https://www.flipkart.com/search?q=mobiles&otracker=search&otracker1=search&marketplace=FLIPKART&as-show=on&as=off&p%5B%5D=facets.brand%255B%255D%3DSAMSUNG\""
   ]
  },
  {
   "cell_type": "code",
   "execution_count": 6,
   "id": "bab3df58",
   "metadata": {},
   "outputs": [],
   "source": [
    "allow = requests.get(url)"
   ]
  },
  {
   "cell_type": "code",
   "execution_count": 7,
   "id": "173140f1",
   "metadata": {},
   "outputs": [
    {
     "name": "stdout",
     "output_type": "stream",
     "text": [
      "<Response [200]>\n"
     ]
    }
   ],
   "source": [
    "print (allow)"
   ]
  },
  {
   "cell_type": "code",
   "execution_count": 9,
   "id": "321c8969",
   "metadata": {},
   "outputs": [],
   "source": [
    "soup=BeautifulSoup(allow.text)"
   ]
  },
  {
   "cell_type": "markdown",
   "id": "e1d32418",
   "metadata": {},
   "source": [
    "## Scrapping Mobile Name "
   ]
  },
  {
   "cell_type": "code",
   "execution_count": 10,
   "id": "ba9bb7f0",
   "metadata": {},
   "outputs": [],
   "source": [
    "mobile_name=soup.select(\"._4rR01T\")"
   ]
  },
  {
   "cell_type": "code",
   "execution_count": 11,
   "id": "dba647c0",
   "metadata": {},
   "outputs": [
    {
     "data": {
      "text/plain": [
       "[<div class=\"_4rR01T\">SAMSUNG Galaxy F22 (Denim Blue, 128 GB)</div>,\n",
       " <div class=\"_4rR01T\">SAMSUNG Galaxy F22 (Denim Blue, 64 GB)</div>,\n",
       " <div class=\"_4rR01T\">SAMSUNG Galaxy F22 (Denim Black, 64 GB)</div>,\n",
       " <div class=\"_4rR01T\">SAMSUNG Galaxy F22 (Denim Black, 128 GB)</div>,\n",
       " <div class=\"_4rR01T\">SAMSUNG Galaxy F23 5G (Copper Blush, 128 GB)</div>,\n",
       " <div class=\"_4rR01T\">SAMSUNG Galaxy F12 (Sea Green, 64 GB)</div>,\n",
       " <div class=\"_4rR01T\">SAMSUNG Galaxy F12 (Celestial Black, 64 GB)</div>,\n",
       " <div class=\"_4rR01T\">SAMSUNG Galaxy F23 5G (Aqua Blue, 128 GB)</div>,\n",
       " <div class=\"_4rR01T\">SAMSUNG Galaxy F23 5G (Forest Green, 128 GB)</div>,\n",
       " <div class=\"_4rR01T\">SAMSUNG Galaxy M12 (Blue, 64 GB)</div>,\n",
       " <div class=\"_4rR01T\">SAMSUNG Galaxy F12 (Sky Blue, 64 GB)</div>,\n",
       " <div class=\"_4rR01T\">SAMSUNG Galaxy M32 (Black, 128 GB)</div>,\n",
       " <div class=\"_4rR01T\">SAMSUNG Galaxy M52 5G (Icy Blue, 128 GB)</div>,\n",
       " <div class=\"_4rR01T\">SAMSUNG Galaxy F23 5G (Copper Blush, 128 GB)</div>,\n",
       " <div class=\"_4rR01T\">SAMSUNG Galaxy M32 (Light Blue, 128 GB)</div>,\n",
       " <div class=\"_4rR01T\">SAMSUNG Guru Music 2 SM-B315E</div>,\n",
       " <div class=\"_4rR01T\">SAMSUNG Galaxy F23 5G (Aqua Blue, 128 GB)</div>,\n",
       " <div class=\"_4rR01T\">SAMSUNG Galaxy M33 5G (Deep Ocean Blue, 128 GB)</div>,\n",
       " <div class=\"_4rR01T\">SAMSUNG GURU MUSIC 2</div>,\n",
       " <div class=\"_4rR01T\">SAMSUNG Galaxy M12 (White, 64 GB)</div>,\n",
       " <div class=\"_4rR01T\">SAMSUNG GURU GT</div>,\n",
       " <div class=\"_4rR01T\">SAMSUNG Galaxy F23 5G (Forest Green, 128 GB)</div>,\n",
       " <div class=\"_4rR01T\">SAMSUNG Galaxy F12 (Sky Blue, 128 GB)</div>,\n",
       " <div class=\"_4rR01T\">SAMSUNG Galaxy M12 (Black, 128 GB)</div>]"
      ]
     },
     "execution_count": 11,
     "metadata": {},
     "output_type": "execute_result"
    }
   ],
   "source": [
    "mobile_name"
   ]
  },
  {
   "cell_type": "code",
   "execution_count": 12,
   "id": "e9916c3c",
   "metadata": {},
   "outputs": [],
   "source": [
    "mobile=[]\n",
    "mobile_links=[]"
   ]
  },
  {
   "cell_type": "code",
   "execution_count": 13,
   "id": "65e9d898",
   "metadata": {},
   "outputs": [],
   "source": [
    "for item in mobile_name:\n",
    "    mobile.append(item.text)\n",
    "    link = \"https://www.flipkart.com\"\n",
    "    mobile_links.append(link)"
   ]
  },
  {
   "cell_type": "code",
   "execution_count": 14,
   "id": "1b961a5f",
   "metadata": {},
   "outputs": [
    {
     "data": {
      "text/plain": [
       "['SAMSUNG Galaxy F22 (Denim Blue, 128 GB)',\n",
       " 'SAMSUNG Galaxy F22 (Denim Blue, 64 GB)',\n",
       " 'SAMSUNG Galaxy F22 (Denim Black, 64 GB)',\n",
       " 'SAMSUNG Galaxy F22 (Denim Black, 128 GB)',\n",
       " 'SAMSUNG Galaxy F23 5G (Copper Blush, 128 GB)',\n",
       " 'SAMSUNG Galaxy F12 (Sea Green, 64 GB)',\n",
       " 'SAMSUNG Galaxy F12 (Celestial Black, 64 GB)',\n",
       " 'SAMSUNG Galaxy F23 5G (Aqua Blue, 128 GB)',\n",
       " 'SAMSUNG Galaxy F23 5G (Forest Green, 128 GB)',\n",
       " 'SAMSUNG Galaxy M12 (Blue, 64 GB)',\n",
       " 'SAMSUNG Galaxy F12 (Sky Blue, 64 GB)',\n",
       " 'SAMSUNG Galaxy M32 (Black, 128 GB)',\n",
       " 'SAMSUNG Galaxy M52 5G (Icy Blue, 128 GB)',\n",
       " 'SAMSUNG Galaxy F23 5G (Copper Blush, 128 GB)',\n",
       " 'SAMSUNG Galaxy M32 (Light Blue, 128 GB)',\n",
       " 'SAMSUNG Guru Music 2 SM-B315E',\n",
       " 'SAMSUNG Galaxy F23 5G (Aqua Blue, 128 GB)',\n",
       " 'SAMSUNG Galaxy M33 5G (Deep Ocean Blue, 128 GB)',\n",
       " 'SAMSUNG GURU MUSIC 2',\n",
       " 'SAMSUNG Galaxy M12 (White, 64 GB)',\n",
       " 'SAMSUNG GURU GT',\n",
       " 'SAMSUNG Galaxy F23 5G (Forest Green, 128 GB)',\n",
       " 'SAMSUNG Galaxy F12 (Sky Blue, 128 GB)',\n",
       " 'SAMSUNG Galaxy M12 (Black, 128 GB)']"
      ]
     },
     "execution_count": 14,
     "metadata": {},
     "output_type": "execute_result"
    }
   ],
   "source": [
    "mobile"
   ]
  },
  {
   "cell_type": "markdown",
   "id": "f14bc8d8",
   "metadata": {},
   "source": [
    "## Extracting Mobile Rates "
   ]
  },
  {
   "cell_type": "code",
   "execution_count": 15,
   "id": "0669e0f0",
   "metadata": {},
   "outputs": [],
   "source": [
    "mobile_rates=soup.select(\"._1_WHN1\")"
   ]
  },
  {
   "cell_type": "code",
   "execution_count": 16,
   "id": "5ae7a46f",
   "metadata": {},
   "outputs": [
    {
     "data": {
      "text/plain": [
       "[<div class=\"_30jeq3 _1_WHN1\">₹13,499</div>,\n",
       " <div class=\"_30jeq3 _1_WHN1\">₹11,499</div>,\n",
       " <div class=\"_30jeq3 _1_WHN1\">₹11,499</div>,\n",
       " <div class=\"_30jeq3 _1_WHN1\">₹13,499</div>,\n",
       " <div class=\"_30jeq3 _1_WHN1\">₹16,249</div>,\n",
       " <div class=\"_30jeq3 _1_WHN1\">₹10,499</div>,\n",
       " <div class=\"_30jeq3 _1_WHN1\">₹10,499</div>,\n",
       " <div class=\"_30jeq3 _1_WHN1\">₹16,249</div>,\n",
       " <div class=\"_30jeq3 _1_WHN1\">₹16,249</div>,\n",
       " <div class=\"_30jeq3 _1_WHN1\">₹10,285</div>,\n",
       " <div class=\"_30jeq3 _1_WHN1\">₹10,499</div>,\n",
       " <div class=\"_30jeq3 _1_WHN1\">₹15,289</div>,\n",
       " <div class=\"_30jeq3 _1_WHN1\">₹24,445</div>,\n",
       " <div class=\"_30jeq3 _1_WHN1\">₹15,249</div>,\n",
       " <div class=\"_30jeq3 _1_WHN1\">₹15,189</div>,\n",
       " <div class=\"_30jeq3 _1_WHN1\">₹1,995</div>,\n",
       " <div class=\"_30jeq3 _1_WHN1\">₹15,249</div>,\n",
       " <div class=\"_30jeq3 _1_WHN1\">₹16,675</div>,\n",
       " <div class=\"_30jeq3 _1_WHN1\">₹1,995</div>,\n",
       " <div class=\"_30jeq3 _1_WHN1\">₹10,869</div>,\n",
       " <div class=\"_30jeq3 _1_WHN1\">₹1,495</div>,\n",
       " <div class=\"_30jeq3 _1_WHN1\">₹15,249</div>,\n",
       " <div class=\"_30jeq3 _1_WHN1\">₹11,499</div>,\n",
       " <div class=\"_30jeq3 _1_WHN1\">₹13,175</div>]"
      ]
     },
     "execution_count": 16,
     "metadata": {},
     "output_type": "execute_result"
    }
   ],
   "source": [
    "mobile_rates"
   ]
  },
  {
   "cell_type": "code",
   "execution_count": 17,
   "id": "d6f1c00f",
   "metadata": {},
   "outputs": [],
   "source": [
    "rates=[]"
   ]
  },
  {
   "cell_type": "code",
   "execution_count": 18,
   "id": "f5267c0e",
   "metadata": {},
   "outputs": [],
   "source": [
    "for item in mobile_rates:\n",
    "    rates.append(item.text)"
   ]
  },
  {
   "cell_type": "code",
   "execution_count": 19,
   "id": "e8d89b25",
   "metadata": {},
   "outputs": [
    {
     "data": {
      "text/plain": [
       "['₹13,499',\n",
       " '₹11,499',\n",
       " '₹11,499',\n",
       " '₹13,499',\n",
       " '₹16,249',\n",
       " '₹10,499',\n",
       " '₹10,499',\n",
       " '₹16,249',\n",
       " '₹16,249',\n",
       " '₹10,285',\n",
       " '₹10,499',\n",
       " '₹15,289',\n",
       " '₹24,445',\n",
       " '₹15,249',\n",
       " '₹15,189',\n",
       " '₹1,995',\n",
       " '₹15,249',\n",
       " '₹16,675',\n",
       " '₹1,995',\n",
       " '₹10,869',\n",
       " '₹1,495',\n",
       " '₹15,249',\n",
       " '₹11,499',\n",
       " '₹13,175']"
      ]
     },
     "execution_count": 19,
     "metadata": {},
     "output_type": "execute_result"
    }
   ],
   "source": [
    "rates"
   ]
  },
  {
   "cell_type": "markdown",
   "id": "c7fc4391",
   "metadata": {},
   "source": [
    "## Extracting Mobile Rating "
   ]
  },
  {
   "cell_type": "code",
   "execution_count": 52,
   "id": "1a2e58f8",
   "metadata": {},
   "outputs": [],
   "source": [
    "mobile_rating=soup.select(\"._3LWZlK\")"
   ]
  },
  {
   "cell_type": "code",
   "execution_count": 53,
   "id": "9227c21a",
   "metadata": {},
   "outputs": [
    {
     "data": {
      "text/plain": [
       "[<div class=\"_3LWZlK\">4.3<img class=\"_1wB99o\" src=\"data:image/svg+xml;base64,PHN2ZyB4bWxucz0iaHR0cDovL3d3dy53My5vcmcvMjAwMC9zdmciIHdpZHRoPSIxMyIgaGVpZ2h0PSIxMiI+PHBhdGggZmlsbD0iI0ZGRiIgZD0iTTYuNSA5LjQzOWwtMy42NzQgMi4yMy45NC00LjI2LTMuMjEtMi44ODMgNC4yNTQtLjQwNEw2LjUuMTEybDEuNjkgNC4wMSA0LjI1NC40MDQtMy4yMSAyLjg4Mi45NCA0LjI2eiIvPjwvc3ZnPg==\"/></div>,\n",
       " <div class=\"_3LWZlK\">4.3<img class=\"_1wB99o\" src=\"data:image/svg+xml;base64,PHN2ZyB4bWxucz0iaHR0cDovL3d3dy53My5vcmcvMjAwMC9zdmciIHdpZHRoPSIxMyIgaGVpZ2h0PSIxMiI+PHBhdGggZmlsbD0iI0ZGRiIgZD0iTTYuNSA5LjQzOWwtMy42NzQgMi4yMy45NC00LjI2LTMuMjEtMi44ODMgNC4yNTQtLjQwNEw2LjUuMTEybDEuNjkgNC4wMSA0LjI1NC40MDQtMy4yMSAyLjg4Mi45NCA0LjI2eiIvPjwvc3ZnPg==\"/></div>,\n",
       " <div class=\"_3LWZlK\">4.3<img class=\"_1wB99o\" src=\"data:image/svg+xml;base64,PHN2ZyB4bWxucz0iaHR0cDovL3d3dy53My5vcmcvMjAwMC9zdmciIHdpZHRoPSIxMyIgaGVpZ2h0PSIxMiI+PHBhdGggZmlsbD0iI0ZGRiIgZD0iTTYuNSA5LjQzOWwtMy42NzQgMi4yMy45NC00LjI2LTMuMjEtMi44ODMgNC4yNTQtLjQwNEw2LjUuMTEybDEuNjkgNC4wMSA0LjI1NC40MDQtMy4yMSAyLjg4Mi45NCA0LjI2eiIvPjwvc3ZnPg==\"/></div>,\n",
       " <div class=\"_3LWZlK\">4.3<img class=\"_1wB99o\" src=\"data:image/svg+xml;base64,PHN2ZyB4bWxucz0iaHR0cDovL3d3dy53My5vcmcvMjAwMC9zdmciIHdpZHRoPSIxMyIgaGVpZ2h0PSIxMiI+PHBhdGggZmlsbD0iI0ZGRiIgZD0iTTYuNSA5LjQzOWwtMy42NzQgMi4yMy45NC00LjI2LTMuMjEtMi44ODMgNC4yNTQtLjQwNEw2LjUuMTEybDEuNjkgNC4wMSA0LjI1NC40MDQtMy4yMSAyLjg4Mi45NCA0LjI2eiIvPjwvc3ZnPg==\"/></div>,\n",
       " <div class=\"_3LWZlK\">4.1<img class=\"_1wB99o\" src=\"data:image/svg+xml;base64,PHN2ZyB4bWxucz0iaHR0cDovL3d3dy53My5vcmcvMjAwMC9zdmciIHdpZHRoPSIxMyIgaGVpZ2h0PSIxMiI+PHBhdGggZmlsbD0iI0ZGRiIgZD0iTTYuNSA5LjQzOWwtMy42NzQgMi4yMy45NC00LjI2LTMuMjEtMi44ODMgNC4yNTQtLjQwNEw2LjUuMTEybDEuNjkgNC4wMSA0LjI1NC40MDQtMy4yMSAyLjg4Mi45NCA0LjI2eiIvPjwvc3ZnPg==\"/></div>,\n",
       " <div class=\"_3LWZlK\">4.3<img class=\"_1wB99o\" src=\"data:image/svg+xml;base64,PHN2ZyB4bWxucz0iaHR0cDovL3d3dy53My5vcmcvMjAwMC9zdmciIHdpZHRoPSIxMyIgaGVpZ2h0PSIxMiI+PHBhdGggZmlsbD0iI0ZGRiIgZD0iTTYuNSA5LjQzOWwtMy42NzQgMi4yMy45NC00LjI2LTMuMjEtMi44ODMgNC4yNTQtLjQwNEw2LjUuMTEybDEuNjkgNC4wMSA0LjI1NC40MDQtMy4yMSAyLjg4Mi45NCA0LjI2eiIvPjwvc3ZnPg==\"/></div>,\n",
       " <div class=\"_3LWZlK\">4.3<img class=\"_1wB99o\" src=\"data:image/svg+xml;base64,PHN2ZyB4bWxucz0iaHR0cDovL3d3dy53My5vcmcvMjAwMC9zdmciIHdpZHRoPSIxMyIgaGVpZ2h0PSIxMiI+PHBhdGggZmlsbD0iI0ZGRiIgZD0iTTYuNSA5LjQzOWwtMy42NzQgMi4yMy45NC00LjI2LTMuMjEtMi44ODMgNC4yNTQtLjQwNEw2LjUuMTEybDEuNjkgNC4wMSA0LjI1NC40MDQtMy4yMSAyLjg4Mi45NCA0LjI2eiIvPjwvc3ZnPg==\"/></div>,\n",
       " <div class=\"_3LWZlK\">4.1<img class=\"_1wB99o\" src=\"data:image/svg+xml;base64,PHN2ZyB4bWxucz0iaHR0cDovL3d3dy53My5vcmcvMjAwMC9zdmciIHdpZHRoPSIxMyIgaGVpZ2h0PSIxMiI+PHBhdGggZmlsbD0iI0ZGRiIgZD0iTTYuNSA5LjQzOWwtMy42NzQgMi4yMy45NC00LjI2LTMuMjEtMi44ODMgNC4yNTQtLjQwNEw2LjUuMTEybDEuNjkgNC4wMSA0LjI1NC40MDQtMy4yMSAyLjg4Mi45NCA0LjI2eiIvPjwvc3ZnPg==\"/></div>,\n",
       " <div class=\"_3LWZlK\">4.1<img class=\"_1wB99o\" src=\"data:image/svg+xml;base64,PHN2ZyB4bWxucz0iaHR0cDovL3d3dy53My5vcmcvMjAwMC9zdmciIHdpZHRoPSIxMyIgaGVpZ2h0PSIxMiI+PHBhdGggZmlsbD0iI0ZGRiIgZD0iTTYuNSA5LjQzOWwtMy42NzQgMi4yMy45NC00LjI2LTMuMjEtMi44ODMgNC4yNTQtLjQwNEw2LjUuMTEybDEuNjkgNC4wMSA0LjI1NC40MDQtMy4yMSAyLjg4Mi45NCA0LjI2eiIvPjwvc3ZnPg==\"/></div>,\n",
       " <div class=\"_3LWZlK\">4.2<img class=\"_1wB99o\" src=\"data:image/svg+xml;base64,PHN2ZyB4bWxucz0iaHR0cDovL3d3dy53My5vcmcvMjAwMC9zdmciIHdpZHRoPSIxMyIgaGVpZ2h0PSIxMiI+PHBhdGggZmlsbD0iI0ZGRiIgZD0iTTYuNSA5LjQzOWwtMy42NzQgMi4yMy45NC00LjI2LTMuMjEtMi44ODMgNC4yNTQtLjQwNEw2LjUuMTEybDEuNjkgNC4wMSA0LjI1NC40MDQtMy4yMSAyLjg4Mi45NCA0LjI2eiIvPjwvc3ZnPg==\"/></div>,\n",
       " <div class=\"_3LWZlK\">4.3<img class=\"_1wB99o\" src=\"data:image/svg+xml;base64,PHN2ZyB4bWxucz0iaHR0cDovL3d3dy53My5vcmcvMjAwMC9zdmciIHdpZHRoPSIxMyIgaGVpZ2h0PSIxMiI+PHBhdGggZmlsbD0iI0ZGRiIgZD0iTTYuNSA5LjQzOWwtMy42NzQgMi4yMy45NC00LjI2LTMuMjEtMi44ODMgNC4yNTQtLjQwNEw2LjUuMTEybDEuNjkgNC4wMSA0LjI1NC40MDQtMy4yMSAyLjg4Mi45NCA0LjI2eiIvPjwvc3ZnPg==\"/></div>,\n",
       " <div class=\"_3LWZlK\">4.3<img class=\"_1wB99o\" src=\"data:image/svg+xml;base64,PHN2ZyB4bWxucz0iaHR0cDovL3d3dy53My5vcmcvMjAwMC9zdmciIHdpZHRoPSIxMyIgaGVpZ2h0PSIxMiI+PHBhdGggZmlsbD0iI0ZGRiIgZD0iTTYuNSA5LjQzOWwtMy42NzQgMi4yMy45NC00LjI2LTMuMjEtMi44ODMgNC4yNTQtLjQwNEw2LjUuMTEybDEuNjkgNC4wMSA0LjI1NC40MDQtMy4yMSAyLjg4Mi45NCA0LjI2eiIvPjwvc3ZnPg==\"/></div>,\n",
       " <div class=\"_3LWZlK\">4.2<img class=\"_1wB99o\" src=\"data:image/svg+xml;base64,PHN2ZyB4bWxucz0iaHR0cDovL3d3dy53My5vcmcvMjAwMC9zdmciIHdpZHRoPSIxMyIgaGVpZ2h0PSIxMiI+PHBhdGggZmlsbD0iI0ZGRiIgZD0iTTYuNSA5LjQzOWwtMy42NzQgMi4yMy45NC00LjI2LTMuMjEtMi44ODMgNC4yNTQtLjQwNEw2LjUuMTEybDEuNjkgNC4wMSA0LjI1NC40MDQtMy4yMSAyLjg4Mi45NCA0LjI2eiIvPjwvc3ZnPg==\"/></div>,\n",
       " <div class=\"_3LWZlK\">4.1<img class=\"_1wB99o\" src=\"data:image/svg+xml;base64,PHN2ZyB4bWxucz0iaHR0cDovL3d3dy53My5vcmcvMjAwMC9zdmciIHdpZHRoPSIxMyIgaGVpZ2h0PSIxMiI+PHBhdGggZmlsbD0iI0ZGRiIgZD0iTTYuNSA5LjQzOWwtMy42NzQgMi4yMy45NC00LjI2LTMuMjEtMi44ODMgNC4yNTQtLjQwNEw2LjUuMTEybDEuNjkgNC4wMSA0LjI1NC40MDQtMy4yMSAyLjg4Mi45NCA0LjI2eiIvPjwvc3ZnPg==\"/></div>,\n",
       " <div class=\"_3LWZlK\">4.3<img class=\"_1wB99o\" src=\"data:image/svg+xml;base64,PHN2ZyB4bWxucz0iaHR0cDovL3d3dy53My5vcmcvMjAwMC9zdmciIHdpZHRoPSIxMyIgaGVpZ2h0PSIxMiI+PHBhdGggZmlsbD0iI0ZGRiIgZD0iTTYuNSA5LjQzOWwtMy42NzQgMi4yMy45NC00LjI2LTMuMjEtMi44ODMgNC4yNTQtLjQwNEw2LjUuMTEybDEuNjkgNC4wMSA0LjI1NC40MDQtMy4yMSAyLjg4Mi45NCA0LjI2eiIvPjwvc3ZnPg==\"/></div>,\n",
       " <div class=\"_3LWZlK\">4.2<img class=\"_1wB99o\" src=\"data:image/svg+xml;base64,PHN2ZyB4bWxucz0iaHR0cDovL3d3dy53My5vcmcvMjAwMC9zdmciIHdpZHRoPSIxMyIgaGVpZ2h0PSIxMiI+PHBhdGggZmlsbD0iI0ZGRiIgZD0iTTYuNSA5LjQzOWwtMy42NzQgMi4yMy45NC00LjI2LTMuMjEtMi44ODMgNC4yNTQtLjQwNEw2LjUuMTEybDEuNjkgNC4wMSA0LjI1NC40MDQtMy4yMSAyLjg4Mi45NCA0LjI2eiIvPjwvc3ZnPg==\"/></div>,\n",
       " <div class=\"_3LWZlK\">4.1<img class=\"_1wB99o\" src=\"data:image/svg+xml;base64,PHN2ZyB4bWxucz0iaHR0cDovL3d3dy53My5vcmcvMjAwMC9zdmciIHdpZHRoPSIxMyIgaGVpZ2h0PSIxMiI+PHBhdGggZmlsbD0iI0ZGRiIgZD0iTTYuNSA5LjQzOWwtMy42NzQgMi4yMy45NC00LjI2LTMuMjEtMi44ODMgNC4yNTQtLjQwNEw2LjUuMTEybDEuNjkgNC4wMSA0LjI1NC40MDQtMy4yMSAyLjg4Mi45NCA0LjI2eiIvPjwvc3ZnPg==\"/></div>,\n",
       " <div class=\"_3LWZlK\">4.1<img class=\"_1wB99o\" src=\"data:image/svg+xml;base64,PHN2ZyB4bWxucz0iaHR0cDovL3d3dy53My5vcmcvMjAwMC9zdmciIHdpZHRoPSIxMyIgaGVpZ2h0PSIxMiI+PHBhdGggZmlsbD0iI0ZGRiIgZD0iTTYuNSA5LjQzOWwtMy42NzQgMi4yMy45NC00LjI2LTMuMjEtMi44ODMgNC4yNTQtLjQwNEw2LjUuMTEybDEuNjkgNC4wMSA0LjI1NC40MDQtMy4yMSAyLjg4Mi45NCA0LjI2eiIvPjwvc3ZnPg==\"/></div>,\n",
       " <div class=\"_3LWZlK\">4.2<img class=\"_1wB99o\" src=\"data:image/svg+xml;base64,PHN2ZyB4bWxucz0iaHR0cDovL3d3dy53My5vcmcvMjAwMC9zdmciIHdpZHRoPSIxMyIgaGVpZ2h0PSIxMiI+PHBhdGggZmlsbD0iI0ZGRiIgZD0iTTYuNSA5LjQzOWwtMy42NzQgMi4yMy45NC00LjI2LTMuMjEtMi44ODMgNC4yNTQtLjQwNEw2LjUuMTEybDEuNjkgNC4wMSA0LjI1NC40MDQtMy4yMSAyLjg4Mi45NCA0LjI2eiIvPjwvc3ZnPg==\"/></div>,\n",
       " <div class=\"_3LWZlK\">4.2<img class=\"_1wB99o\" src=\"data:image/svg+xml;base64,PHN2ZyB4bWxucz0iaHR0cDovL3d3dy53My5vcmcvMjAwMC9zdmciIHdpZHRoPSIxMyIgaGVpZ2h0PSIxMiI+PHBhdGggZmlsbD0iI0ZGRiIgZD0iTTYuNSA5LjQzOWwtMy42NzQgMi4yMy45NC00LjI2LTMuMjEtMi44ODMgNC4yNTQtLjQwNEw2LjUuMTEybDEuNjkgNC4wMSA0LjI1NC40MDQtMy4yMSAyLjg4Mi45NCA0LjI2eiIvPjwvc3ZnPg==\"/></div>,\n",
       " <div class=\"_3LWZlK\">4.1<img class=\"_1wB99o\" src=\"data:image/svg+xml;base64,PHN2ZyB4bWxucz0iaHR0cDovL3d3dy53My5vcmcvMjAwMC9zdmciIHdpZHRoPSIxMyIgaGVpZ2h0PSIxMiI+PHBhdGggZmlsbD0iI0ZGRiIgZD0iTTYuNSA5LjQzOWwtMy42NzQgMi4yMy45NC00LjI2LTMuMjEtMi44ODMgNC4yNTQtLjQwNEw2LjUuMTEybDEuNjkgNC4wMSA0LjI1NC40MDQtMy4yMSAyLjg4Mi45NCA0LjI2eiIvPjwvc3ZnPg==\"/></div>,\n",
       " <div class=\"_3LWZlK\">4.1<img class=\"_1wB99o\" src=\"data:image/svg+xml;base64,PHN2ZyB4bWxucz0iaHR0cDovL3d3dy53My5vcmcvMjAwMC9zdmciIHdpZHRoPSIxMyIgaGVpZ2h0PSIxMiI+PHBhdGggZmlsbD0iI0ZGRiIgZD0iTTYuNSA5LjQzOWwtMy42NzQgMi4yMy45NC00LjI2LTMuMjEtMi44ODMgNC4yNTQtLjQwNEw2LjUuMTEybDEuNjkgNC4wMSA0LjI1NC40MDQtMy4yMSAyLjg4Mi45NCA0LjI2eiIvPjwvc3ZnPg==\"/></div>,\n",
       " <div class=\"_3LWZlK\">4.3<img class=\"_1wB99o\" src=\"data:image/svg+xml;base64,PHN2ZyB4bWxucz0iaHR0cDovL3d3dy53My5vcmcvMjAwMC9zdmciIHdpZHRoPSIxMyIgaGVpZ2h0PSIxMiI+PHBhdGggZmlsbD0iI0ZGRiIgZD0iTTYuNSA5LjQzOWwtMy42NzQgMi4yMy45NC00LjI2LTMuMjEtMi44ODMgNC4yNTQtLjQwNEw2LjUuMTEybDEuNjkgNC4wMSA0LjI1NC40MDQtMy4yMSAyLjg4Mi45NCA0LjI2eiIvPjwvc3ZnPg==\"/></div>,\n",
       " <div class=\"_3LWZlK\">4.2<img class=\"_1wB99o\" src=\"data:image/svg+xml;base64,PHN2ZyB4bWxucz0iaHR0cDovL3d3dy53My5vcmcvMjAwMC9zdmciIHdpZHRoPSIxMyIgaGVpZ2h0PSIxMiI+PHBhdGggZmlsbD0iI0ZGRiIgZD0iTTYuNSA5LjQzOWwtMy42NzQgMi4yMy45NC00LjI2LTMuMjEtMi44ODMgNC4yNTQtLjQwNEw2LjUuMTEybDEuNjkgNC4wMSA0LjI1NC40MDQtMy4yMSAyLjg4Mi45NCA0LjI2eiIvPjwvc3ZnPg==\"/></div>]"
      ]
     },
     "execution_count": 53,
     "metadata": {},
     "output_type": "execute_result"
    }
   ],
   "source": [
    "mobile_rating"
   ]
  },
  {
   "cell_type": "code",
   "execution_count": 54,
   "id": "31bf659e",
   "metadata": {},
   "outputs": [],
   "source": [
    "rating = []"
   ]
  },
  {
   "cell_type": "code",
   "execution_count": 55,
   "id": "d8d7b02a",
   "metadata": {},
   "outputs": [],
   "source": [
    "for item in mobile_rating:\n",
    "    rating.append(item.text)"
   ]
  },
  {
   "cell_type": "code",
   "execution_count": 56,
   "id": "4200fe72",
   "metadata": {},
   "outputs": [
    {
     "data": {
      "text/plain": [
       "['4.3',\n",
       " '4.3',\n",
       " '4.3',\n",
       " '4.3',\n",
       " '4.1',\n",
       " '4.3',\n",
       " '4.3',\n",
       " '4.1',\n",
       " '4.1',\n",
       " '4.2',\n",
       " '4.3',\n",
       " '4.3',\n",
       " '4.2',\n",
       " '4.1',\n",
       " '4.3',\n",
       " '4.2',\n",
       " '4.1',\n",
       " '4.1',\n",
       " '4.2',\n",
       " '4.2',\n",
       " '4.1',\n",
       " '4.1',\n",
       " '4.3',\n",
       " '4.2']"
      ]
     },
     "execution_count": 56,
     "metadata": {},
     "output_type": "execute_result"
    }
   ],
   "source": [
    "rating"
   ]
  },
  {
   "cell_type": "code",
   "execution_count": 57,
   "id": "2cfaaa07",
   "metadata": {},
   "outputs": [],
   "source": [
    "import pandas as pd"
   ]
  },
  {
   "cell_type": "markdown",
   "id": "20e8c7e2",
   "metadata": {},
   "source": [
    "## Framing the extracted data"
   ]
  },
  {
   "cell_type": "code",
   "execution_count": 79,
   "id": "e6e2d90e",
   "metadata": {},
   "outputs": [],
   "source": [
    "mobile = pd.DataFrame (mobile_name,columns=['mobile'])"
   ]
  },
  {
   "cell_type": "code",
   "execution_count": 80,
   "id": "3eceaffe",
   "metadata": {},
   "outputs": [],
   "source": [
    "mobile ['rating'] = rating"
   ]
  },
  {
   "cell_type": "code",
   "execution_count": 81,
   "id": "5be398ea",
   "metadata": {},
   "outputs": [],
   "source": [
    "mobile ['rates'] = rates"
   ]
  },
  {
   "cell_type": "code",
   "execution_count": 82,
   "id": "3918dd18",
   "metadata": {},
   "outputs": [
    {
     "data": {
      "text/html": [
       "<div>\n",
       "<style scoped>\n",
       "    .dataframe tbody tr th:only-of-type {\n",
       "        vertical-align: middle;\n",
       "    }\n",
       "\n",
       "    .dataframe tbody tr th {\n",
       "        vertical-align: top;\n",
       "    }\n",
       "\n",
       "    .dataframe thead th {\n",
       "        text-align: right;\n",
       "    }\n",
       "</style>\n",
       "<table border=\"1\" class=\"dataframe\">\n",
       "  <thead>\n",
       "    <tr style=\"text-align: right;\">\n",
       "      <th></th>\n",
       "      <th>mobile</th>\n",
       "      <th>rating</th>\n",
       "      <th>rates</th>\n",
       "    </tr>\n",
       "  </thead>\n",
       "  <tbody>\n",
       "    <tr>\n",
       "      <th>0</th>\n",
       "      <td>SAMSUNG Galaxy F22 (Denim Blue, 128 GB)</td>\n",
       "      <td>4.3</td>\n",
       "      <td>₹13,499</td>\n",
       "    </tr>\n",
       "    <tr>\n",
       "      <th>1</th>\n",
       "      <td>SAMSUNG Galaxy F22 (Denim Blue, 64 GB)</td>\n",
       "      <td>4.3</td>\n",
       "      <td>₹11,499</td>\n",
       "    </tr>\n",
       "    <tr>\n",
       "      <th>2</th>\n",
       "      <td>SAMSUNG Galaxy F22 (Denim Black, 64 GB)</td>\n",
       "      <td>4.3</td>\n",
       "      <td>₹11,499</td>\n",
       "    </tr>\n",
       "    <tr>\n",
       "      <th>3</th>\n",
       "      <td>SAMSUNG Galaxy F22 (Denim Black, 128 GB)</td>\n",
       "      <td>4.3</td>\n",
       "      <td>₹13,499</td>\n",
       "    </tr>\n",
       "    <tr>\n",
       "      <th>4</th>\n",
       "      <td>SAMSUNG Galaxy F23 5G (Copper Blush, 128 GB)</td>\n",
       "      <td>4.1</td>\n",
       "      <td>₹16,249</td>\n",
       "    </tr>\n",
       "    <tr>\n",
       "      <th>5</th>\n",
       "      <td>SAMSUNG Galaxy F12 (Sea Green, 64 GB)</td>\n",
       "      <td>4.3</td>\n",
       "      <td>₹10,499</td>\n",
       "    </tr>\n",
       "    <tr>\n",
       "      <th>6</th>\n",
       "      <td>SAMSUNG Galaxy F12 (Celestial Black, 64 GB)</td>\n",
       "      <td>4.3</td>\n",
       "      <td>₹10,499</td>\n",
       "    </tr>\n",
       "    <tr>\n",
       "      <th>7</th>\n",
       "      <td>SAMSUNG Galaxy F23 5G (Aqua Blue, 128 GB)</td>\n",
       "      <td>4.1</td>\n",
       "      <td>₹16,249</td>\n",
       "    </tr>\n",
       "    <tr>\n",
       "      <th>8</th>\n",
       "      <td>SAMSUNG Galaxy F23 5G (Forest Green, 128 GB)</td>\n",
       "      <td>4.1</td>\n",
       "      <td>₹16,249</td>\n",
       "    </tr>\n",
       "    <tr>\n",
       "      <th>9</th>\n",
       "      <td>SAMSUNG Galaxy M12 (Blue, 64 GB)</td>\n",
       "      <td>4.2</td>\n",
       "      <td>₹10,285</td>\n",
       "    </tr>\n",
       "    <tr>\n",
       "      <th>10</th>\n",
       "      <td>SAMSUNG Galaxy F12 (Sky Blue, 64 GB)</td>\n",
       "      <td>4.3</td>\n",
       "      <td>₹10,499</td>\n",
       "    </tr>\n",
       "    <tr>\n",
       "      <th>11</th>\n",
       "      <td>SAMSUNG Galaxy M32 (Black, 128 GB)</td>\n",
       "      <td>4.3</td>\n",
       "      <td>₹15,289</td>\n",
       "    </tr>\n",
       "    <tr>\n",
       "      <th>12</th>\n",
       "      <td>SAMSUNG Galaxy M52 5G (Icy Blue, 128 GB)</td>\n",
       "      <td>4.2</td>\n",
       "      <td>₹24,445</td>\n",
       "    </tr>\n",
       "    <tr>\n",
       "      <th>13</th>\n",
       "      <td>SAMSUNG Galaxy F23 5G (Copper Blush, 128 GB)</td>\n",
       "      <td>4.1</td>\n",
       "      <td>₹15,249</td>\n",
       "    </tr>\n",
       "    <tr>\n",
       "      <th>14</th>\n",
       "      <td>SAMSUNG Galaxy M32 (Light Blue, 128 GB)</td>\n",
       "      <td>4.3</td>\n",
       "      <td>₹15,189</td>\n",
       "    </tr>\n",
       "    <tr>\n",
       "      <th>15</th>\n",
       "      <td>SAMSUNG Guru Music 2 SM-B315E</td>\n",
       "      <td>4.2</td>\n",
       "      <td>₹1,995</td>\n",
       "    </tr>\n",
       "    <tr>\n",
       "      <th>16</th>\n",
       "      <td>SAMSUNG Galaxy F23 5G (Aqua Blue, 128 GB)</td>\n",
       "      <td>4.1</td>\n",
       "      <td>₹15,249</td>\n",
       "    </tr>\n",
       "    <tr>\n",
       "      <th>17</th>\n",
       "      <td>SAMSUNG Galaxy M33 5G (Deep Ocean Blue, 128 GB)</td>\n",
       "      <td>4.1</td>\n",
       "      <td>₹16,675</td>\n",
       "    </tr>\n",
       "    <tr>\n",
       "      <th>18</th>\n",
       "      <td>SAMSUNG GURU MUSIC 2</td>\n",
       "      <td>4.2</td>\n",
       "      <td>₹1,995</td>\n",
       "    </tr>\n",
       "    <tr>\n",
       "      <th>19</th>\n",
       "      <td>SAMSUNG Galaxy M12 (White, 64 GB)</td>\n",
       "      <td>4.2</td>\n",
       "      <td>₹10,869</td>\n",
       "    </tr>\n",
       "    <tr>\n",
       "      <th>20</th>\n",
       "      <td>SAMSUNG GURU GT</td>\n",
       "      <td>4.1</td>\n",
       "      <td>₹1,495</td>\n",
       "    </tr>\n",
       "    <tr>\n",
       "      <th>21</th>\n",
       "      <td>SAMSUNG Galaxy F23 5G (Forest Green, 128 GB)</td>\n",
       "      <td>4.1</td>\n",
       "      <td>₹15,249</td>\n",
       "    </tr>\n",
       "    <tr>\n",
       "      <th>22</th>\n",
       "      <td>SAMSUNG Galaxy F12 (Sky Blue, 128 GB)</td>\n",
       "      <td>4.3</td>\n",
       "      <td>₹11,499</td>\n",
       "    </tr>\n",
       "    <tr>\n",
       "      <th>23</th>\n",
       "      <td>SAMSUNG Galaxy M12 (Black, 128 GB)</td>\n",
       "      <td>4.2</td>\n",
       "      <td>₹13,175</td>\n",
       "    </tr>\n",
       "  </tbody>\n",
       "</table>\n",
       "</div>"
      ],
      "text/plain": [
       "                                             mobile rating    rates\n",
       "0           SAMSUNG Galaxy F22 (Denim Blue, 128 GB)    4.3  ₹13,499\n",
       "1            SAMSUNG Galaxy F22 (Denim Blue, 64 GB)    4.3  ₹11,499\n",
       "2           SAMSUNG Galaxy F22 (Denim Black, 64 GB)    4.3  ₹11,499\n",
       "3          SAMSUNG Galaxy F22 (Denim Black, 128 GB)    4.3  ₹13,499\n",
       "4      SAMSUNG Galaxy F23 5G (Copper Blush, 128 GB)    4.1  ₹16,249\n",
       "5             SAMSUNG Galaxy F12 (Sea Green, 64 GB)    4.3  ₹10,499\n",
       "6       SAMSUNG Galaxy F12 (Celestial Black, 64 GB)    4.3  ₹10,499\n",
       "7         SAMSUNG Galaxy F23 5G (Aqua Blue, 128 GB)    4.1  ₹16,249\n",
       "8      SAMSUNG Galaxy F23 5G (Forest Green, 128 GB)    4.1  ₹16,249\n",
       "9                  SAMSUNG Galaxy M12 (Blue, 64 GB)    4.2  ₹10,285\n",
       "10             SAMSUNG Galaxy F12 (Sky Blue, 64 GB)    4.3  ₹10,499\n",
       "11               SAMSUNG Galaxy M32 (Black, 128 GB)    4.3  ₹15,289\n",
       "12         SAMSUNG Galaxy M52 5G (Icy Blue, 128 GB)    4.2  ₹24,445\n",
       "13     SAMSUNG Galaxy F23 5G (Copper Blush, 128 GB)    4.1  ₹15,249\n",
       "14          SAMSUNG Galaxy M32 (Light Blue, 128 GB)    4.3  ₹15,189\n",
       "15                    SAMSUNG Guru Music 2 SM-B315E    4.2   ₹1,995\n",
       "16        SAMSUNG Galaxy F23 5G (Aqua Blue, 128 GB)    4.1  ₹15,249\n",
       "17  SAMSUNG Galaxy M33 5G (Deep Ocean Blue, 128 GB)    4.1  ₹16,675\n",
       "18                             SAMSUNG GURU MUSIC 2    4.2   ₹1,995\n",
       "19                SAMSUNG Galaxy M12 (White, 64 GB)    4.2  ₹10,869\n",
       "20                                  SAMSUNG GURU GT    4.1   ₹1,495\n",
       "21     SAMSUNG Galaxy F23 5G (Forest Green, 128 GB)    4.1  ₹15,249\n",
       "22            SAMSUNG Galaxy F12 (Sky Blue, 128 GB)    4.3  ₹11,499\n",
       "23               SAMSUNG Galaxy M12 (Black, 128 GB)    4.2  ₹13,175"
      ]
     },
     "execution_count": 82,
     "metadata": {},
     "output_type": "execute_result"
    }
   ],
   "source": [
    "mobile"
   ]
  },
  {
   "cell_type": "code",
   "execution_count": 83,
   "id": "e3b736af",
   "metadata": {},
   "outputs": [],
   "source": [
    "mobile.to_csv('mobile.csv')"
   ]
  },
  {
   "cell_type": "code",
   "execution_count": null,
   "id": "2d9d9202",
   "metadata": {},
   "outputs": [],
   "source": []
  }
 ],
 "metadata": {
  "kernelspec": {
   "display_name": "Python 3 (ipykernel)",
   "language": "python",
   "name": "python3"
  },
  "language_info": {
   "codemirror_mode": {
    "name": "ipython",
    "version": 3
   },
   "file_extension": ".py",
   "mimetype": "text/x-python",
   "name": "python",
   "nbconvert_exporter": "python",
   "pygments_lexer": "ipython3",
   "version": "3.9.7"
  }
 },
 "nbformat": 4,
 "nbformat_minor": 5
}
